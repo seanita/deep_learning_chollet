{
  "nbformat": 4,
  "nbformat_minor": 0,
  "metadata": {
    "colab": {
      "name": "imdb_dataset.ipynb",
      "provenance": [],
      "collapsed_sections": []
    },
    "kernelspec": {
      "name": "python3",
      "display_name": "Python 3"
    }
  },
  "cells": [
    {
      "cell_type": "code",
      "metadata": {
        "id": "kGzBDNPdAiRu",
        "colab_type": "code",
        "colab": {}
      },
      "source": [
        "from keras.datasets import imdb\n",
        "(train_data, train_labels), (test_data, test_labels) = imdb.load_data(num_words=10000)\n"
      ],
      "execution_count": 0,
      "outputs": []
    },
    {
      "cell_type": "code",
      "metadata": {
        "id": "AfRMqVPNK3FW",
        "colab_type": "code",
        "colab": {}
      },
      "source": [
        "# train_data[0]\n",
        "# train_labels[0]"
      ],
      "execution_count": 0,
      "outputs": []
    },
    {
      "cell_type": "code",
      "metadata": {
        "id": "zIk6xLjmK6AW",
        "colab_type": "code",
        "outputId": "ce9d3858-abeb-42ef-c83d-6cd891265000",
        "colab": {
          "base_uri": "https://localhost:8080/",
          "height": 34
        }
      },
      "source": [
        "max([max(sequence) for sequence in train_data])\n",
        "\n",
        "# word_index = imdb.get_word_index()\n",
        "# reverse_word_index = dict([(value, key) for (key, value) in word_index.items()])\n",
        "# decoded_review = ''.join([reverse_word_index.get(i - 3, '?') for i in train_data[0]])"
      ],
      "execution_count": 0,
      "outputs": [
        {
          "output_type": "execute_result",
          "data": {
            "text/plain": [
              "9999"
            ]
          },
          "metadata": {
            "tags": []
          },
          "execution_count": 13
        }
      ]
    },
    {
      "cell_type": "code",
      "metadata": {
        "id": "ynq2d1Mk8SNE",
        "colab_type": "code",
        "colab": {}
      },
      "source": [
        "import numpy as np\n",
        "\n",
        "def vectorize_sequences(sequences, dimension=10000):\n",
        "  results = np.zeros((len(sequences), dimension))\n",
        "  for i, sequence in enumerate(sequences):\n",
        "    results[i, sequence] = 1.\n",
        "  return results\n",
        "\n",
        "x_train = vectorize_sequences(train_data)\n",
        "x_test = vectorize_sequences(test_data)"
      ],
      "execution_count": 0,
      "outputs": []
    },
    {
      "cell_type": "code",
      "metadata": {
        "id": "yorFMN5pAiVM",
        "colab_type": "code",
        "outputId": "1f70a26a-15e2-4427-b40a-be7c6b7f6664",
        "colab": {
          "base_uri": "https://localhost:8080/",
          "height": 34
        }
      },
      "source": [
        "x_train[0]"
      ],
      "execution_count": 0,
      "outputs": [
        {
          "output_type": "execute_result",
          "data": {
            "text/plain": [
              "array([0., 1., 1., ..., 0., 0., 0.])"
            ]
          },
          "metadata": {
            "tags": []
          },
          "execution_count": 15
        }
      ]
    },
    {
      "cell_type": "code",
      "metadata": {
        "id": "K-QkP5SKA3a1",
        "colab_type": "code",
        "colab": {}
      },
      "source": [
        "y_train = np.asarray(train_labels).astype('float32')\n",
        "y_test = np.asarray(test_labels).astype('float32')"
      ],
      "execution_count": 0,
      "outputs": []
    },
    {
      "cell_type": "code",
      "metadata": {
        "id": "ZmDxhcXrv_1H",
        "colab_type": "code",
        "colab": {}
      },
      "source": [
        "from keras import models\n",
        "from keras import layers\n",
        "\n",
        "model = models.Sequential()\n",
        "model.add(layers.Dense(16, activation='relu', input_shape=(10000, )))\n",
        "model.add(layers.Dense(16, activation='relu'))\n",
        "model.add(layers.Dense(1, activation='sigmoid'))"
      ],
      "execution_count": 0,
      "outputs": []
    },
    {
      "cell_type": "code",
      "metadata": {
        "id": "Q28ty4_H5Qs_",
        "colab_type": "code",
        "colab": {}
      },
      "source": [
        "model.compile(optimizer='rmsprop', loss='binary_crossentropy', metrics=['accuracy'])"
      ],
      "execution_count": 0,
      "outputs": []
    },
    {
      "cell_type": "code",
      "metadata": {
        "id": "wCd18FrpxkSS",
        "colab_type": "code",
        "colab": {}
      },
      "source": [
        "x_val = x_train[:10000]\n",
        "partial_x_train = x_train[10000:]\n",
        "y_val = y_train[:10000]\n",
        "partial_y_train = y_train[10000:]"
      ],
      "execution_count": 0,
      "outputs": []
    },
    {
      "cell_type": "code",
      "metadata": {
        "id": "TJLeFMg9yNbr",
        "colab_type": "code",
        "outputId": "42efaacf-3fe2-435a-c360-4907252a1107",
        "colab": {
          "base_uri": "https://localhost:8080/",
          "height": 734
        }
      },
      "source": [
        "# model.compile(optimizer='rmsprop', loss='binary_crossentropy', metrics=['accuracy'])\n",
        "# history = model.fit(partial_x_train, partial_y_train, epochs = 20, batch_size=512, validation_data=(x_val, y_val))"
      ],
      "execution_count": 0,
      "outputs": [
        {
          "output_type": "stream",
          "text": [
            "Train on 15000 samples, validate on 10000 samples\n",
            "Epoch 1/20\n",
            "15000/15000 [==============================] - 3s 213us/step - loss: 0.5352 - acc: 0.7633 - val_loss: 0.4098 - val_acc: 0.8623\n",
            "Epoch 2/20\n",
            "15000/15000 [==============================] - 3s 180us/step - loss: 0.3255 - acc: 0.8980 - val_loss: 0.3146 - val_acc: 0.8839\n",
            "Epoch 3/20\n",
            "15000/15000 [==============================] - 3s 183us/step - loss: 0.2338 - acc: 0.9245 - val_loss: 0.2884 - val_acc: 0.8842\n",
            "Epoch 4/20\n",
            "15000/15000 [==============================] - 3s 173us/step - loss: 0.1817 - acc: 0.9395 - val_loss: 0.2725 - val_acc: 0.8916\n",
            "Epoch 5/20\n",
            "15000/15000 [==============================] - 3s 170us/step - loss: 0.1471 - acc: 0.9525 - val_loss: 0.3257 - val_acc: 0.8729\n",
            "Epoch 6/20\n",
            "15000/15000 [==============================] - 3s 176us/step - loss: 0.1210 - acc: 0.9616 - val_loss: 0.2896 - val_acc: 0.8869\n",
            "Epoch 7/20\n",
            "15000/15000 [==============================] - 3s 177us/step - loss: 0.1004 - acc: 0.9700 - val_loss: 0.3206 - val_acc: 0.8810\n",
            "Epoch 8/20\n",
            "15000/15000 [==============================] - 3s 188us/step - loss: 0.0817 - acc: 0.9767 - val_loss: 0.3299 - val_acc: 0.8811\n",
            "Epoch 9/20\n",
            "15000/15000 [==============================] - 3s 187us/step - loss: 0.0684 - acc: 0.9812 - val_loss: 0.3614 - val_acc: 0.8771\n",
            "Epoch 10/20\n",
            "15000/15000 [==============================] - 3s 192us/step - loss: 0.0560 - acc: 0.9851 - val_loss: 0.3965 - val_acc: 0.8753\n",
            "Epoch 11/20\n",
            "15000/15000 [==============================] - 3s 184us/step - loss: 0.0448 - acc: 0.9897 - val_loss: 0.4053 - val_acc: 0.8760\n",
            "Epoch 12/20\n",
            "15000/15000 [==============================] - 3s 177us/step - loss: 0.0378 - acc: 0.9920 - val_loss: 0.4420 - val_acc: 0.8738\n",
            "Epoch 13/20\n",
            "15000/15000 [==============================] - 3s 182us/step - loss: 0.0298 - acc: 0.9940 - val_loss: 0.4566 - val_acc: 0.8723\n",
            "Epoch 14/20\n",
            "15000/15000 [==============================] - 3s 187us/step - loss: 0.0234 - acc: 0.9957 - val_loss: 0.5132 - val_acc: 0.8650\n",
            "Epoch 15/20\n",
            "15000/15000 [==============================] - 3s 181us/step - loss: 0.0197 - acc: 0.9967 - val_loss: 0.5193 - val_acc: 0.8697\n",
            "Epoch 16/20\n",
            "15000/15000 [==============================] - 3s 178us/step - loss: 0.0154 - acc: 0.9979 - val_loss: 0.5528 - val_acc: 0.8670\n",
            "Epoch 17/20\n",
            "15000/15000 [==============================] - 3s 178us/step - loss: 0.0093 - acc: 0.9996 - val_loss: 0.6032 - val_acc: 0.8636\n",
            "Epoch 18/20\n",
            "15000/15000 [==============================] - 3s 189us/step - loss: 0.0090 - acc: 0.9993 - val_loss: 0.6425 - val_acc: 0.8666\n",
            "Epoch 19/20\n",
            "15000/15000 [==============================] - 3s 184us/step - loss: 0.0105 - acc: 0.9974 - val_loss: 0.6536 - val_acc: 0.8667\n",
            "Epoch 20/20\n",
            "15000/15000 [==============================] - 3s 185us/step - loss: 0.0037 - acc: 0.9999 - val_loss: 0.6949 - val_acc: 0.8650\n"
          ],
          "name": "stdout"
        }
      ]
    },
    {
      "cell_type": "code",
      "metadata": {
        "id": "SrFSKajOxkNf",
        "colab_type": "code",
        "colab": {}
      },
      "source": [
        "# history_dict.keys()\n",
        "# history_dict.values()"
      ],
      "execution_count": 0,
      "outputs": []
    },
    {
      "cell_type": "code",
      "metadata": {
        "id": "fzbq-z8uC_xG",
        "colab_type": "code",
        "outputId": "84d8a337-8b9e-45c3-cecf-348d2ba41d21",
        "colab": {
          "base_uri": "https://localhost:8080/",
          "height": 295
        }
      },
      "source": [
        "import matplotlib.pyplot as plt\n",
        "\n",
        "history_dict = history.history\n",
        "loss_values = history_dict['loss']\n",
        "val_loss_values = history_dict['val_loss']\n",
        "\n",
        "epochs = range(1, len(history_dict['acc']) + 1)\n",
        "\n",
        "plt.plot(epochs, loss_values, 'bo', label='Training loss')\n",
        "plt.plot(epochs, val_loss_values, 'b', label='Validation loss')\n",
        "plt.title('Training and validation loss')\n",
        "plt.xlabel('Epochs')\n",
        "plt.ylabel('Loss')\n",
        "plt.legend()\n",
        "\n",
        "plt.show()"
      ],
      "execution_count": 0,
      "outputs": [
        {
          "output_type": "display_data",
          "data": {
            "image/png": "[encoded data removed]",
            "text/plain": [
              "<Figure size 432x288 with 1 Axes>"
            ]
          },
          "metadata": {
            "tags": []
          }
        }
      ]
    },
    {
      "cell_type": "markdown",
      "metadata": {
        "id": "79uKXZxPNcSO",
        "colab_type": "text"
      },
      "source": [
        ""
      ]
    },
    {
      "cell_type": "code",
      "metadata": {
        "id": "00dgFZsaNama",
        "colab_type": "code",
        "outputId": "2dbc66ab-48b0-4abb-b1fa-bd9ce8062bc7",
        "colab": {
          "base_uri": "https://localhost:8080/",
          "height": 295
        }
      },
      "source": [
        "# plt.clf()\n",
        "acc_values = history_dict['acc']\n",
        "val_acc_values = history_dict['val_acc']\n",
        "\n",
        "plt.plot(epochs, acc_values, 'bo', label='Training acc')\n",
        "plt.plot(epochs, val_acc_values, 'b', label='Validation acc')\n",
        "plt.title('Training and validation accuracy')\n",
        "plt.xlabel('Epochs')\n",
        "plt.ylabel('Loss')\n",
        "plt.legend()\n",
        "\n",
        "plt.show()\n"
      ],
      "execution_count": 0,
      "outputs": [
        {
          "output_type": "display_data",
          "data": {
            "image/png": "[encoded data removed]",
            "text/plain": [
              "<Figure size 432x288 with 1 Axes>"
            ]
          },
          "metadata": {
            "tags": []
          }
        }
      ]
    },
    {
      "cell_type": "code",
      "metadata": {
        "id": "RmYoorGBR7WJ",
        "colab_type": "code",
        "colab": {}
      },
      "source": [
        "model = models.Sequential()\n",
        "model.add(layers.Dense(16, activation='relu', input_shape=(10000,)))\n",
        "model.add(layers.Dense(16, activation='relu'))\n",
        "model.add(layers.Dense(1, activation='sigmoid'))\n",
        "\n",
        "model.compile(optimizer='rmsprop', loss='binary_crossentropy', metrics=['accuracy'])\n",
        "\n",
        "model.fit(x_train, y_train, epochs=4, batch_size=512)\n",
        "results = model.evaluate(x_test, y_test)\n",
        "results"
      ],
      "execution_count": 0,
      "outputs": []
    },
    {
      "cell_type": "markdown",
      "metadata": {
        "id": "tN6okzAozVLe",
        "colab_type": "text"
      },
      "source": [
        ""
      ]
    },
    {
      "cell_type": "code",
      "metadata": {
        "id": "Fcfy8DroYteN",
        "colab_type": "code",
        "outputId": "37a7b083-054d-49d7-8c93-9986ecb84f46",
        "colab": {
          "base_uri": "https://localhost:8080/",
          "height": 136
        }
      },
      "source": [
        "model.predict(x_test)"
      ],
      "execution_count": 0,
      "outputs": [
        {
          "output_type": "execute_result",
          "data": {
            "text/plain": [
              "array([[0.1734449 ],\n",
              "       [0.9998498 ],\n",
              "       [0.58336014],\n",
              "       ...,\n",
              "       [0.10642025],\n",
              "       [0.04956183],\n",
              "       [0.54115206]], dtype=float32)"
            ]
          },
          "metadata": {
            "tags": []
          },
          "execution_count": 36
        }
      ]
    },
    {
      "cell_type": "code",
      "metadata": {
        "id": "crm1-in4YtXi",
        "colab_type": "code",
        "colab": {}
      },
      "source": [
        ""
      ],
      "execution_count": 0,
      "outputs": []
    }
  ]
}