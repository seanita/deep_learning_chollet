{
  "nbformat": 4,
  "nbformat_minor": 0,
  "metadata": {
    "colab": {
      "name": "reuters_reviews_classification.ipynb",
      "provenance": [],
      "collapsed_sections": [],
      "include_colab_link": true
    },
    "kernelspec": {
      "name": "python3",
      "display_name": "Python 3"
    }
  },
  "cells": [
    {
      "cell_type": "markdown",
      "metadata": {
        "id": "view-in-github",
        "colab_type": "text"
      },
      "source": [
        "<a href=\"https://colab.research.google.com/github/seanita/deep_learning_with_python/blob/master/reuters_reviews_classification.ipynb\" target=\"_parent\"><img src=\"https://colab.research.google.com/assets/colab-badge.svg\" alt=\"Open In Colab\"/></a>"
      ]
    },
    {
      "cell_type": "markdown",
      "metadata": {
        "id": "gKB5cbiLbmqk",
        "colab_type": "text"
      },
      "source": [
        "Load reuters dataset"
      ]
    },
    {
      "cell_type": "code",
      "metadata": {
        "id": "XRW9YUU3YsAl",
        "colab_type": "code",
        "outputId": "6d0f170c-9ebe-4dfa-ccd5-b15b8cb6fe31",
        "colab": {
          "base_uri": "https://localhost:8080/",
          "height": 51
        }
      },
      "source": [
        "from keras.datasets import reuters\n",
        "(train_data, train_labels), (test_data, test_labels) = reuters.load_data(num_words=10000)\n",
        "\n",
        "print(len(train_data))\n",
        "print(len(test_data))\n",
        "# print(train_data)\n",
        "# print(train_labels[0])"
      ],
      "execution_count": 14,
      "outputs": [
        {
          "output_type": "stream",
          "text": [
            "8982\n",
            "2246\n"
          ],
          "name": "stdout"
        }
      ]
    },
    {
      "cell_type": "code",
      "metadata": {
        "id": "GVNJ9aevOThP",
        "colab_type": "code",
        "outputId": "27156ba7-ea96-406c-b4b3-7ab93f67c2b9",
        "colab": {
          "base_uri": "https://localhost:8080/",
          "height": 71
        }
      },
      "source": [
        "word_index = reuters.get_word_index()\n",
        "reverse_word_index = dict([(value, key) for (key, value) in word_index.items()])\n",
        "decoded_newswire = ''.join([reverse_word_index.get(i - 20, '?') for i in train_data[0]])\n",
        "\n",
        "print(decoded_newswire)\n",
        "print(train_labels[9])"
      ],
      "execution_count": 15,
      "outputs": [
        {
          "output_type": "stream",
          "text": [
            "????cts?loans?saidcountriesdeficit?tighteningmarch?35worldnewwhich?9??been??if?newwhichshareoffarmand?with?2?stabilityfromwestall?12?trade??ofrose???with?437offersdeclined?statement?prior??ofoverby????avgcyclopsnewwhichbillion3westfordlrswe?after???\n",
            "16\n"
          ],
          "name": "stdout"
        }
      ]
    },
    {
      "cell_type": "markdown",
      "metadata": {
        "id": "Srr0lrz6QoEL",
        "colab_type": "text"
      },
      "source": [
        "Vectorize train and test data"
      ]
    },
    {
      "cell_type": "code",
      "metadata": {
        "id": "dJ-Lqx1oFKxo",
        "colab_type": "code",
        "colab": {}
      },
      "source": [
        "import numpy as np\n",
        "\n",
        "def vectorize_sequences(sequences, dimension=10000):\n",
        "  results = np.zeros((len(sequences), dimension))\n",
        "  for i, sequence in enumerate(sequences):\n",
        "    results[i, sequence] = 1.\n",
        "  return results\n",
        "  \n",
        "x_train = vectorize_sequences(train_data)\n",
        "x_test = vectorize_sequences(test_data)"
      ],
      "execution_count": 0,
      "outputs": []
    },
    {
      "cell_type": "markdown",
      "metadata": {
        "id": "4r2d_eqYMAT4",
        "colab_type": "text"
      },
      "source": [
        "Apply one-hot encoding to label data. Each label is an all-zero vector with a 1 in place of the label index."
      ]
    },
    {
      "cell_type": "code",
      "metadata": {
        "id": "EiRbOiPGFSIX",
        "colab_type": "code",
        "colab": {}
      },
      "source": [
        "from keras.utils.np_utils import to_categorical\n",
        "'''\n",
        "# Here's another way to do this without using Keras built-in function.\n",
        "def to one_hot(labels, dimension=46):\n",
        "  results = np.zeros((len(labels), dimension))\n",
        "  for i, label in enumerate(labels):\n",
        "    results[i, label] = 1\n",
        "  return results\n",
        "\n",
        "one_hot_train_labels = to_one_hot(train_labels)\n",
        "one_hot_test_labels = to_one_hot(test_labels)\n",
        "'''\n",
        "\n",
        "one_hot_train_labels = to_categorical(train_labels)\n",
        "one_hot_test_labels = to_categorical(test_labels)"
      ],
      "execution_count": 0,
      "outputs": []
    },
    {
      "cell_type": "markdown",
      "metadata": {
        "id": "XV_1grnl1rxb",
        "colab_type": "text"
      },
      "source": [
        "Building the network. Three layers - 1 input, 1 hidden and 1 output. Final layer needs to output all 46 classes, so the iniital input and hidden layers have slightly larger nodes, 64 each."
      ]
    },
    {
      "cell_type": "code",
      "metadata": {
        "id": "kXvz6yux1q1F",
        "colab_type": "code",
        "colab": {}
      },
      "source": [
        "from keras import models\n",
        "from keras import layers\n",
        "\n",
        "model = models.Sequential()\n",
        "model.add(layers.Dense(64, activation='relu', input_shape=(10000, )))\n",
        "model.add(layers.Dense(64, activation='relu'))\n",
        "model.add(layers.Dense(46, activation='softmax'))"
      ],
      "execution_count": 0,
      "outputs": []
    },
    {
      "cell_type": "code",
      "metadata": {
        "id": "Mq7aVHBGDyhx",
        "colab_type": "code",
        "colab": {}
      },
      "source": [
        "model.compile(optimizer='rmsprop', loss='categorical_crossentropy', metrics=['accuracy'])"
      ],
      "execution_count": 0,
      "outputs": []
    },
    {
      "cell_type": "markdown",
      "metadata": {
        "id": "r4U7PibdFKpy",
        "colab_type": "text"
      },
      "source": [
        "Setting add 1000 samples from train data as validation set"
      ]
    },
    {
      "cell_type": "code",
      "metadata": {
        "id": "a1s7xa-fFUBW",
        "colab_type": "code",
        "colab": {}
      },
      "source": [
        "x_val = x_train[:1000]\n",
        "partial_x_train = x_train[1000:]\n",
        "\n",
        "y_val = one_hot_train_labels[:1000]\n",
        "partial_y_train = one_hot_train_labels[1000:]"
      ],
      "execution_count": 0,
      "outputs": []
    },
    {
      "cell_type": "markdown",
      "metadata": {
        "id": "bV-_1FwhG6XK",
        "colab_type": "text"
      },
      "source": [
        "Training the model. 20 epochs."
      ]
    },
    {
      "cell_type": "code",
      "metadata": {
        "id": "055k-thGG6KT",
        "colab_type": "code",
        "colab": {}
      },
      "source": [
        ""
      ],
      "execution_count": 0,
      "outputs": []
    },
    {
      "cell_type": "code",
      "metadata": {
        "colab_type": "code",
        "id": "RuF3-Qd8G5Vb",
        "colab": {}
      },
      "source": [
        "history = model.fit(partial_x_train, \n",
        "                    partial_y_train, \n",
        "                    epochs=20, \n",
        "                    batch_size=512,\n",
        "                    validation_data = (x_val, y_val))"
      ],
      "execution_count": 0,
      "outputs": []
    },
    {
      "cell_type": "markdown",
      "metadata": {
        "id": "dhFFLg4rHBL8",
        "colab_type": "text"
      },
      "source": [
        "Plot training and accuracy data"
      ]
    },
    {
      "cell_type": "code",
      "metadata": {
        "id": "wPOAfpVhGtRM",
        "colab_type": "code",
        "colab": {
          "base_uri": "https://localhost:8080/",
          "height": 312
        },
        "outputId": "1abc0014-6380-4a40-da00-3090d6323fde"
      },
      "source": [
        "import matplotlib.pyplot as plt\n",
        "\n",
        "loss = history.history['loss']\n",
        "val_loss = history.history['val_loss']\n",
        "\n",
        "epochs = range(1, len(loss) + 1)\n",
        "\n",
        "plt.plot(epochs, loss, 'bo', label='Training loss')\n",
        "plt.plot(epochs, val_loss, 'b', label='Validating loss')\n",
        "plt.title('Training and validation loss')\n",
        "plt.xlabel('Epochs')\n",
        "plt.ylabel('Loss')\n",
        "plt.legend()\n",
        "\n",
        "plt.show\n",
        "\n"
      ],
      "execution_count": 24,
      "outputs": [
        {
          "output_type": "execute_result",
          "data": {
            "text/plain": [
              "<function matplotlib.pyplot.show>"
            ]
          },
          "metadata": {
            "tags": []
          },
          "execution_count": 24
        },
        {
          "output_type": "display_data",
          "data": {
            "image/png": "[encoded data removed]",
            "text/plain": [
              "<Figure size 432x288 with 1 Axes>"
            ]
          },
          "metadata": {
            "tags": []
          }
        }
      ]
    },
    {
      "cell_type": "markdown",
      "metadata": {
        "id": "BjOzpgVWStGL",
        "colab_type": "text"
      },
      "source": [
        ""
      ]
    },
    {
      "cell_type": "code",
      "metadata": {
        "id": "cxQligW-Ss17",
        "colab_type": "code",
        "colab": {
          "base_uri": "https://localhost:8080/",
          "height": 295
        },
        "outputId": "8605b715-9f91-4e9e-f82d-1b57f55126a2"
      },
      "source": [
        "acc = history.history['acc']\n",
        "val_acc = history.history['val_acc']\n",
        "\n",
        "plt.plot(epochs, acc, 'bo', label='Training acc')\n",
        "plt.plot(epochs, val_acc, 'b', label='Validation acc')\n",
        "plt.title('Training and validation accuracy')\n",
        "plt.xlabel('Epochs')\n",
        "plt.ylabel('Loss')\n",
        "plt.legend()\n",
        "\n",
        "plt.show()"
      ],
      "execution_count": 25,
      "outputs": [
        {
          "output_type": "display_data",
          "data": {
            "image/png": "[encoded data removed]",
            "text/plain": [
              "<Figure size 432x288 with 1 Axes>"
            ]
          },
          "metadata": {
            "tags": []
          }
        }
      ]
    },
    {
      "cell_type": "code",
      "metadata": {
        "id": "YmJp8aT-TwTY",
        "colab_type": "code",
        "colab": {
          "base_uri": "https://localhost:8080/",
          "height": 394
        },
        "outputId": "d0ec6806-4d4a-438a-94d0-cf79d9fdd9a6"
      },
      "source": [
        "model = models.Sequential()\n",
        "model.add(layers.Dense(64, activation='relu', input_shape=(10000, )))\n",
        "model.add(layers.Dense(64, activation='relu'))\n",
        "model.add(layers.Dense(46, activation='softmax'))\n",
        "\n",
        "model.compile(optimizer='rmsprop', loss='categorical_crossentropy', metrics=['accuracy'])\n",
        "\n",
        "model.fit(partial_x_train, \n",
        "                    partial_y_train, \n",
        "                    epochs=9, \n",
        "                    batch_size=512,\n",
        "                    validation_data = (x_val, y_val))\n",
        "\n",
        "\n",
        "results = model.evaluate(x_test, one_hot_test_labels)\n",
        "print(results)"
      ],
      "execution_count": 31,
      "outputs": [
        {
          "output_type": "stream",
          "text": [
            "Train on 7982 samples, validate on 1000 samples\n",
            "Epoch 1/9\n",
            "7982/7982 [==============================] - 1s 169us/step - loss: 2.7669 - acc: 0.5317 - val_loss: 1.8415 - val_acc: 0.6310\n",
            "Epoch 2/9\n",
            "7982/7982 [==============================] - 1s 131us/step - loss: 1.4892 - acc: 0.7035 - val_loss: 1.3310 - val_acc: 0.7030\n",
            "Epoch 3/9\n",
            "7982/7982 [==============================] - 1s 131us/step - loss: 1.0865 - acc: 0.7784 - val_loss: 1.1501 - val_acc: 0.7480\n",
            "Epoch 4/9\n",
            "7982/7982 [==============================] - 1s 132us/step - loss: 0.8598 - acc: 0.8240 - val_loss: 1.0363 - val_acc: 0.7840\n",
            "Epoch 5/9\n",
            "7982/7982 [==============================] - 1s 141us/step - loss: 0.6833 - acc: 0.8607 - val_loss: 1.0201 - val_acc: 0.7740\n",
            "Epoch 6/9\n",
            "7982/7982 [==============================] - 1s 139us/step - loss: 0.5466 - acc: 0.8877 - val_loss: 0.9173 - val_acc: 0.8170\n",
            "Epoch 7/9\n",
            "7982/7982 [==============================] - 1s 134us/step - loss: 0.4413 - acc: 0.9077 - val_loss: 0.9205 - val_acc: 0.8100\n",
            "Epoch 8/9\n",
            "7982/7982 [==============================] - 1s 135us/step - loss: 0.3566 - acc: 0.9270 - val_loss: 0.9043 - val_acc: 0.8080\n",
            "Epoch 9/9\n",
            "7982/7982 [==============================] - 1s 134us/step - loss: 0.3013 - acc: 0.9334 - val_loss: 0.8799 - val_acc: 0.8130\n",
            "2246/2246 [==============================] - 0s 92us/step\n",
            "[0.9779274527345082, 0.7876224399196815]\n"
          ],
          "name": "stdout"
        }
      ]
    },
    {
      "cell_type": "markdown",
      "metadata": {
        "id": "B3K0Os2FWj45",
        "colab_type": "text"
      },
      "source": [
        ""
      ]
    }
  ]
}