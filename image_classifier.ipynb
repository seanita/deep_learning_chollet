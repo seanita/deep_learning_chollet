{
  "nbformat": 4,
  "nbformat_minor": 0,
  "metadata": {
    "kernelspec": {
      "display_name": "Python 3",
      "language": "python",
      "name": "python3"
    },
    "language_info": {
      "codemirror_mode": {
        "name": "ipython",
        "version": 3
      },
      "file_extension": ".py",
      "mimetype": "text/x-python",
      "name": "python",
      "nbconvert_exporter": "python",
      "pygments_lexer": "ipython3",
      "version": "3.7.0"
    },
    "colab": {
      "name": "image_classifier.ipynb",
      "provenance": [],
      "collapsed_sections": [],
      "include_colab_link": true
    }
  },
  "cells": [
    {
      "cell_type": "markdown",
      "metadata": {
        "id": "view-in-github",
        "colab_type": "text"
      },
      "source": [
        "<a href=\"https://colab.research.google.com/github/seanita/deep_learning_with_python/blob/master/image_classifier.ipynb\" target=\"_parent\"><img src=\"https://colab.research.google.com/assets/colab-badge.svg\" alt=\"Open In Colab\"/></a>"
      ]
    },
    {
      "cell_type": "code",
      "metadata": {
        "id": "FeDhmJwS-IAG",
        "colab_type": "code",
        "outputId": "a67a4271-babb-4caa-953d-80a3f6737ad6",
        "colab": {
          "base_uri": "https://localhost:8080/",
          "height": 71
        }
      },
      "source": [
        "from google.colab import drive\n",
        "\n",
        "drive.mount('/content/gdrive')\n",
        "root_dir = \"/content/gdrive/My Drive/\"\n",
        "base_dir = root_dir + 'dogs-vs-cats/'\n",
        "\n",
        "print(base_dir)"
      ],
      "execution_count": 10,
      "outputs": [
        {
          "output_type": "stream",
          "text": [
            "Drive already mounted at /content/gdrive; to attempt to forcibly remount, call drive.mount(\"/content/gdrive\", force_remount=True).\n",
            "/content/gdrive/My Drive/dogs-vs-cats/\n"
          ],
          "name": "stdout"
        }
      ]
    },
    {
      "cell_type": "code",
      "metadata": {
        "scrolled": true,
        "id": "eQ_4OmFN9xjI",
        "colab_type": "code",
        "colab": {}
      },
      "source": [
        "import os, shutil\n",
        "\n",
        "train_dir = os.path.join(base_dir, 'train')\n",
        "validation_dir = os.path.join(base_dir, 'validation')\n",
        "# os.mkdir(validation_dir)\n",
        "test_dir = os.path.join(base_dir, 'test')"
      ],
      "execution_count": 0,
      "outputs": []
    },
    {
      "cell_type": "code",
      "metadata": {
        "scrolled": true,
        "id": "6qtFUxFw9xjN",
        "colab_type": "code",
        "colab": {
          "base_uri": "https://localhost:8080/",
          "height": 51
        },
        "outputId": "75c2daf9-20bc-4ec9-8ade-0dad9b4140d0"
      },
      "source": [
        "## Create image directories ##\n",
        "# Create directory for training data\n",
        "train_cats_dir = os.path.join(train_dir, 'cats')\n",
        "train_dogs_dir = os.path.join(train_dir, 'dogs')\n",
        "\n",
        "# os.mkdir(train_cats_dir)\n",
        "# os.mkdir(train_dogs_dir)\n",
        "\n",
        "# Create directory for validation data\n",
        "validation_cats_dir = os.path.join(validation_dir, 'cats')\n",
        "validation_dogs_dir = os.path.join(validation_dir, 'dogs')\n",
        "\n",
        "# os.mkdir(validation_cats_dir)\n",
        "# os.mkdir(validation_dogs_dir)\n",
        "\n",
        "# Create directory for test data\n",
        "test_cats_dir = os.path.join(test_dir, 'cats')\n",
        "test_dogs_dir = os.path.join(test_dir, 'dogs')\n",
        "\n",
        "# os.mkdir(test_cats_dir)\n",
        "# os.mkdir(test_dogs_dir)\n",
        "\n",
        "print(validation_cats_dir)\n",
        "print(validation_dogs_dir)"
      ],
      "execution_count": 29,
      "outputs": [
        {
          "output_type": "stream",
          "text": [
            "/content/gdrive/My Drive/dogs-vs-cats/validation/cats\n",
            "/content/gdrive/My Drive/dogs-vs-cats/validation/dogs\n"
          ],
          "name": "stdout"
        }
      ]
    },
    {
      "cell_type": "code",
      "metadata": {
        "id": "aXAEA4HK9xjP",
        "colab_type": "code",
        "colab": {}
      },
      "source": [
        "## Parse cat data and add to respective train, vaidation and test folders ##\n",
        "fnames = ['cat.{}.jpg'.format(i) for i in range(1000)]\n",
        "for fname in fnames:\n",
        "    src = os.path.join(train_dir, fname)\n",
        "    dst = os.path.join(train_cats_dir, fname)\n",
        "    shutil.copyfile(src, dst)\n",
        "    \n",
        "fnames = ['cat.{}.jpg'.format(i) for i in range(1000, 1500)]\n",
        "for fname in fnames:\n",
        "    src = os.path.join(train_dir, fname) \n",
        "    dst = os.path.join(validation_cats_dir, fname)\n",
        "    shutil.copyfile(src, dst)\n",
        "\n",
        "fnames = ['{}.jpg'.format(i) for i in range(1,501)]\n",
        "for fname in fnames:\n",
        "    src = os.path.join(test_dir, fname)\n",
        "    dst = os.path.join(test_cats_dir, fname)\n",
        "    shutil.copyfile(src, dst) \n"
      ],
      "execution_count": 0,
      "outputs": []
    },
    {
      "cell_type": "code",
      "metadata": {
        "id": "cirAS5oR9xjQ",
        "colab_type": "code",
        "colab": {}
      },
      "source": [
        "## Parse dog data and add to respective train, vaidation and test folders ##\n",
        "\n",
        "fnames = ['dog.{}.jpg'.format(i) for i in range(1000)]\n",
        "for fname in fnames:\n",
        "    src = os.path.join(train_dir, fname)\n",
        "    dst = os.path.join(train_dogs_dir, fname)\n",
        "    shutil.copyfile(src, dst)\n",
        "    \n",
        "fnames = ['dog.{}.jpg'.format(i) for i in range(1000, 1500)]\n",
        "for fname in fnames:\n",
        "    src = os.path.join(train_dir, fname)\n",
        "    dst = os.path.join(validation_dogs_dir, fname)\n",
        "    shutil.copyfile(src, dst)\n",
        "      \n",
        "fnames = ['{}.jpg'.format(i) for i in range(501,1000)]\n",
        "for fname in fnames:\n",
        "    src = os.path.join(test_dir, fname)\n",
        "    dst = os.path.join(test_dogs_dir, fname)\n",
        "    shutil.copyfile(src, dst)\n",
        "    "
      ],
      "execution_count": 0,
      "outputs": []
    },
    {
      "cell_type": "code",
      "metadata": {
        "id": "lorDUKWJ9xjS",
        "colab_type": "code",
        "colab": {
          "base_uri": "https://localhost:8080/",
          "height": 119
        },
        "outputId": "d64beeb8-409b-4bb6-f594-95a2e8b2ba92"
      },
      "source": [
        "print('Total training cat images:', len(os.listdir(train_cats_dir)))\n",
        "print('Total training dog images:', len(os.listdir(train_dogs_dir)))\n",
        "\n",
        "print('Total validation cat images:', len(os.listdir(validation_cats_dir)))\n",
        "print('Total validation dog images:', len(os.listdir(validation_dogs_dir)))\n",
        "\n",
        "print('Total test cat images:', len(os.listdir(test_cats_dir)))\n",
        "print('Total test dog images:', len(os.listdir(test_dogs_dir)))"
      ],
      "execution_count": 19,
      "outputs": [
        {
          "output_type": "stream",
          "text": [
            "Total training cat images: 1000\n",
            "Total training dog images: 1000\n",
            "Total validation cat images: 501\n",
            "Total validation dog images: 500\n",
            "Total test cat images: 500\n",
            "Total test dog images: 501\n"
          ],
          "name": "stdout"
        }
      ]
    },
    {
      "cell_type": "code",
      "metadata": {
        "id": "9B1JktKo9xjU",
        "colab_type": "code",
        "colab": {}
      },
      "source": [
        "## Create conv, max pooling and FC layers)\n",
        "\n",
        "from keras import layers\n",
        "from keras import models\n",
        "\n",
        "model = models.Sequential()\n",
        "model.add(layers.Conv2D(32, (3, 3), activation='relu',\n",
        "                        input_shape=(150, 150, 3)))\n",
        "model.add(layers.MaxPooling2D((2, 2)))\n",
        "model.add(layers.Conv2D(64, (3, 3), activation='relu'))\n",
        "model.add(layers.MaxPooling2D((2, 2)))        \n",
        "model.add(layers.Conv2D(128, (3, 3), activation='relu'))\n",
        "model.add(layers.MaxPooling2D((2, 2)))  \n",
        "model.add(layers.Conv2D(128, (3, 3), activation='relu'))\n",
        "model.add(layers.MaxPooling2D((2, 2)))\n",
        "        \n",
        "model.add(layers.Flatten())\n",
        "model.add(layers.Dense(512, activation='relu'))\n",
        "model.add(layers.Dense(1, activation='sigmoid'))"
      ],
      "execution_count": 0,
      "outputs": []
    },
    {
      "cell_type": "code",
      "metadata": {
        "id": "AFRpEFVM9xjY",
        "colab_type": "code",
        "outputId": "f237a711-3506-4a45-c1bc-ab9c58af6d4d",
        "colab": {
          "base_uri": "https://localhost:8080/",
          "height": 527
        }
      },
      "source": [
        "model.summary()"
      ],
      "execution_count": 22,
      "outputs": [
        {
          "output_type": "stream",
          "text": [
            "Model: \"sequential_2\"\n",
            "_________________________________________________________________\n",
            "Layer (type)                 Output Shape              Param #   \n",
            "=================================================================\n",
            "conv2d_5 (Conv2D)            (None, 148, 148, 32)      896       \n",
            "_________________________________________________________________\n",
            "max_pooling2d_5 (MaxPooling2 (None, 74, 74, 32)        0         \n",
            "_________________________________________________________________\n",
            "conv2d_6 (Conv2D)            (None, 72, 72, 64)        18496     \n",
            "_________________________________________________________________\n",
            "max_pooling2d_6 (MaxPooling2 (None, 36, 36, 64)        0         \n",
            "_________________________________________________________________\n",
            "conv2d_7 (Conv2D)            (None, 34, 34, 128)       73856     \n",
            "_________________________________________________________________\n",
            "max_pooling2d_7 (MaxPooling2 (None, 17, 17, 128)       0         \n",
            "_________________________________________________________________\n",
            "conv2d_8 (Conv2D)            (None, 15, 15, 128)       147584    \n",
            "_________________________________________________________________\n",
            "max_pooling2d_8 (MaxPooling2 (None, 7, 7, 128)         0         \n",
            "_________________________________________________________________\n",
            "flatten_2 (Flatten)          (None, 6272)              0         \n",
            "_________________________________________________________________\n",
            "dense_3 (Dense)              (None, 512)               3211776   \n",
            "_________________________________________________________________\n",
            "dense_4 (Dense)              (None, 1)                 513       \n",
            "=================================================================\n",
            "Total params: 3,453,121\n",
            "Trainable params: 3,453,121\n",
            "Non-trainable params: 0\n",
            "_________________________________________________________________\n"
          ],
          "name": "stdout"
        }
      ]
    },
    {
      "cell_type": "code",
      "metadata": {
        "id": "CA0G99CX9xja",
        "colab_type": "code",
        "colab": {}
      },
      "source": [
        "# Setup optimizer #\n",
        "from keras import optimizers\n",
        "\n",
        "model.compile(loss='binary_crossentropy',\n",
        "              optimizer=optimizers.RMSprop(lr=1e-4), metrics=['acc'])"
      ],
      "execution_count": 0,
      "outputs": []
    },
    {
      "cell_type": "code",
      "metadata": {
        "id": "Fb4kd_499xjb",
        "colab_type": "code",
        "outputId": "9c4d8da9-80ab-4a88-ff20-39d4042b45f2",
        "colab": {
          "base_uri": "https://localhost:8080/",
          "height": 51
        }
      },
      "source": [
        "# Convert images into floating point tensors before feeding to network # \n",
        "# We will use ImageDataGenerator class provided by keras which automagically \n",
        "# turns images into preprocessed tensors.\n",
        "\n",
        "from keras.preprocessing.image import ImageDataGenerator\n",
        "\n",
        "train_datagen = ImageDataGenerator(rescale=1./255)\n",
        "test_datagen = ImageDataGenerator(rescale=1./255)\n",
        "\n",
        "train_generator = train_datagen.flow_from_directory(\n",
        "        train_dir,\n",
        "        target_size=(150,150),\n",
        "        batch_size=20,\n",
        "        class_mode='binary')\n",
        "\n",
        "validation_generator = test_datagen.flow_from_directory(\n",
        "        validation_dir,\n",
        "        target_size=(150,150),\n",
        "        batch_size=20,\n",
        "        class_mode='binary')"
      ],
      "execution_count": 24,
      "outputs": [
        {
          "output_type": "stream",
          "text": [
            "Found 2000 images belonging to 2 classes.\n",
            "Found 1000 images belonging to 2 classes.\n"
          ],
          "name": "stdout"
        }
      ]
    },
    {
      "cell_type": "code",
      "metadata": {
        "id": "8LJGZSiy9xjd",
        "colab_type": "code",
        "outputId": "4e2aaf4f-62d1-4a66-cdf8-cdc6e82679be",
        "colab": {
          "base_uri": "https://localhost:8080/",
          "height": 51
        }
      },
      "source": [
        "for data_batch, labels_batch in train_generator:\n",
        "    print('Data batch shape:', data_batch.shape)\n",
        "    print('Labels batch shape', labels_batch.shape)\n",
        "    break"
      ],
      "execution_count": 25,
      "outputs": [
        {
          "output_type": "stream",
          "text": [
            "Data batch shape: (20, 150, 150, 3)\n",
            "Labels batch shape (20,)\n"
          ],
          "name": "stdout"
        }
      ]
    },
    {
      "cell_type": "code",
      "metadata": {
        "id": "yOY-Vqaj9xjf",
        "colab_type": "code",
        "outputId": "064ac6ba-7ed9-4699-9d2d-8b87d6217a15",
        "colab": {
          "base_uri": "https://localhost:8080/",
          "height": 1000
        }
      },
      "source": [
        "history = model.fit_generator(\n",
        "        train_generator,\n",
        "        steps_per_epoch=100,\n",
        "        epochs=30,\n",
        "        validation_data=validation_generator,\n",
        "        validation_steps=50)"
      ],
      "execution_count": 26,
      "outputs": [
        {
          "output_type": "stream",
          "text": [
            "WARNING:tensorflow:From /usr/local/lib/python3.6/dist-packages/keras/backend/tensorflow_backend.py:1033: The name tf.assign_add is deprecated. Please use tf.compat.v1.assign_add instead.\n",
            "\n",
            "WARNING:tensorflow:From /usr/local/lib/python3.6/dist-packages/keras/backend/tensorflow_backend.py:1020: The name tf.assign is deprecated. Please use tf.compat.v1.assign instead.\n",
            "\n",
            "WARNING:tensorflow:From /usr/local/lib/python3.6/dist-packages/keras/backend/tensorflow_backend.py:3005: The name tf.Session is deprecated. Please use tf.compat.v1.Session instead.\n",
            "\n",
            "Epoch 1/30\n",
            "WARNING:tensorflow:From /usr/local/lib/python3.6/dist-packages/keras/backend/tensorflow_backend.py:190: The name tf.get_default_session is deprecated. Please use tf.compat.v1.get_default_session instead.\n",
            "\n",
            "WARNING:tensorflow:From /usr/local/lib/python3.6/dist-packages/keras/backend/tensorflow_backend.py:197: The name tf.ConfigProto is deprecated. Please use tf.compat.v1.ConfigProto instead.\n",
            "\n",
            "WARNING:tensorflow:From /usr/local/lib/python3.6/dist-packages/keras/backend/tensorflow_backend.py:207: The name tf.global_variables is deprecated. Please use tf.compat.v1.global_variables instead.\n",
            "\n",
            "WARNING:tensorflow:From /usr/local/lib/python3.6/dist-packages/keras/backend/tensorflow_backend.py:216: The name tf.is_variable_initialized is deprecated. Please use tf.compat.v1.is_variable_initialized instead.\n",
            "\n",
            "WARNING:tensorflow:From /usr/local/lib/python3.6/dist-packages/keras/backend/tensorflow_backend.py:223: The name tf.variables_initializer is deprecated. Please use tf.compat.v1.variables_initializer instead.\n",
            "\n",
            "100/100 [==============================] - 909s 9s/step - loss: 0.6865 - acc: 0.5520 - val_loss: 0.6834 - val_acc: 0.5400\n",
            "Epoch 2/30\n",
            "100/100 [==============================] - 124s 1s/step - loss: 0.6451 - acc: 0.6275 - val_loss: 0.6251 - val_acc: 0.6550\n",
            "Epoch 3/30\n",
            "100/100 [==============================] - 123s 1s/step - loss: 0.5972 - acc: 0.6745 - val_loss: 0.6261 - val_acc: 0.6440\n",
            "Epoch 4/30\n",
            "100/100 [==============================] - 123s 1s/step - loss: 0.5491 - acc: 0.7175 - val_loss: 0.5888 - val_acc: 0.6820\n",
            "Epoch 5/30\n",
            "100/100 [==============================] - 123s 1s/step - loss: 0.5211 - acc: 0.7370 - val_loss: 0.6604 - val_acc: 0.6460\n",
            "Epoch 6/30\n",
            "100/100 [==============================] - 123s 1s/step - loss: 0.4916 - acc: 0.7455 - val_loss: 0.5903 - val_acc: 0.6950\n",
            "Epoch 7/30\n",
            "100/100 [==============================] - 123s 1s/step - loss: 0.4642 - acc: 0.7755 - val_loss: 0.5770 - val_acc: 0.6950\n",
            "Epoch 8/30\n",
            "100/100 [==============================] - 123s 1s/step - loss: 0.4290 - acc: 0.8030 - val_loss: 0.5636 - val_acc: 0.7230\n",
            "Epoch 9/30\n",
            "100/100 [==============================] - 123s 1s/step - loss: 0.4012 - acc: 0.8220 - val_loss: 0.5840 - val_acc: 0.7120\n",
            "Epoch 10/30\n",
            "100/100 [==============================] - 124s 1s/step - loss: 0.3723 - acc: 0.8215 - val_loss: 0.6474 - val_acc: 0.6950\n",
            "Epoch 11/30\n",
            "100/100 [==============================] - 123s 1s/step - loss: 0.3357 - acc: 0.8520 - val_loss: 0.5816 - val_acc: 0.7250\n",
            "Epoch 12/30\n",
            "100/100 [==============================] - 123s 1s/step - loss: 0.3234 - acc: 0.8605 - val_loss: 0.5755 - val_acc: 0.7230\n",
            "Epoch 13/30\n",
            "100/100 [==============================] - 123s 1s/step - loss: 0.2846 - acc: 0.8875 - val_loss: 0.6088 - val_acc: 0.7230\n",
            "Epoch 14/30\n",
            "100/100 [==============================] - 123s 1s/step - loss: 0.2582 - acc: 0.8915 - val_loss: 0.6243 - val_acc: 0.7120\n",
            "Epoch 15/30\n",
            "100/100 [==============================] - 123s 1s/step - loss: 0.2320 - acc: 0.9110 - val_loss: 0.6454 - val_acc: 0.7260\n",
            "Epoch 16/30\n",
            "100/100 [==============================] - 123s 1s/step - loss: 0.2042 - acc: 0.9285 - val_loss: 0.6629 - val_acc: 0.7180\n",
            "Epoch 17/30\n",
            "100/100 [==============================] - 123s 1s/step - loss: 0.1936 - acc: 0.9210 - val_loss: 0.6582 - val_acc: 0.7190\n",
            "Epoch 18/30\n",
            "100/100 [==============================] - 123s 1s/step - loss: 0.1586 - acc: 0.9435 - val_loss: 0.8315 - val_acc: 0.7070\n",
            "Epoch 19/30\n",
            "100/100 [==============================] - 124s 1s/step - loss: 0.1391 - acc: 0.9525 - val_loss: 0.7675 - val_acc: 0.7200\n",
            "Epoch 20/30\n",
            "100/100 [==============================] - 123s 1s/step - loss: 0.1256 - acc: 0.9560 - val_loss: 0.7751 - val_acc: 0.7160\n",
            "Epoch 21/30\n",
            "100/100 [==============================] - 124s 1s/step - loss: 0.1016 - acc: 0.9705 - val_loss: 1.0320 - val_acc: 0.7020\n",
            "Epoch 22/30\n",
            "100/100 [==============================] - 123s 1s/step - loss: 0.0914 - acc: 0.9710 - val_loss: 0.9195 - val_acc: 0.6970\n",
            "Epoch 23/30\n",
            "100/100 [==============================] - 124s 1s/step - loss: 0.0725 - acc: 0.9805 - val_loss: 0.9403 - val_acc: 0.7180\n",
            "Epoch 24/30\n",
            "100/100 [==============================] - 124s 1s/step - loss: 0.0659 - acc: 0.9770 - val_loss: 1.1121 - val_acc: 0.7100\n",
            "Epoch 25/30\n",
            "100/100 [==============================] - 123s 1s/step - loss: 0.0585 - acc: 0.9830 - val_loss: 1.0372 - val_acc: 0.7190\n",
            "Epoch 26/30\n",
            "100/100 [==============================] - 124s 1s/step - loss: 0.0485 - acc: 0.9845 - val_loss: 1.0640 - val_acc: 0.7020\n",
            "Epoch 27/30\n",
            "100/100 [==============================] - 124s 1s/step - loss: 0.0406 - acc: 0.9875 - val_loss: 1.0801 - val_acc: 0.7050\n",
            "Epoch 28/30\n",
            "100/100 [==============================] - 124s 1s/step - loss: 0.0418 - acc: 0.9895 - val_loss: 1.1845 - val_acc: 0.7200\n",
            "Epoch 29/30\n",
            "100/100 [==============================] - 124s 1s/step - loss: 0.0375 - acc: 0.9880 - val_loss: 1.1713 - val_acc: 0.7230\n",
            "Epoch 30/30\n",
            "100/100 [==============================] - 124s 1s/step - loss: 0.0227 - acc: 0.9945 - val_loss: 1.3079 - val_acc: 0.7050\n"
          ],
          "name": "stdout"
        }
      ]
    },
    {
      "cell_type": "code",
      "metadata": {
        "id": "HIXconPN9xjh",
        "colab_type": "code",
        "colab": {}
      },
      "source": [
        "model.save('cats_and_dogs_small_1.h5')"
      ],
      "execution_count": 0,
      "outputs": []
    },
    {
      "cell_type": "code",
      "metadata": {
        "id": "-7tm-R5LWdZz",
        "colab_type": "code",
        "colab": {
          "base_uri": "https://localhost:8080/",
          "height": 545
        },
        "outputId": "90d55dda-7fd4-44b2-e55f-dc363108732e"
      },
      "source": [
        "import matplotlib.pyplot as plt\n",
        "\n",
        "acc = history.history['acc']\n",
        "val_acc = history.history['val_acc']\n",
        "loss = history.history['loss']\n",
        "val_loss = history.history['val_loss']\n",
        "\n",
        "epochs = range(1, len(acc) +1)\n",
        "\n",
        "plt.plot(epochs, acc, 'bo', label='Training acc')\n",
        "plt.plot(epochs, val_acc, 'b', label='Validation acc')\n",
        "plt.title('Training and validation accuracy')\n",
        "plt.legend()\n",
        "\n",
        "plt.figure()\n",
        "\n",
        "plt.plot(epochs, loss, 'bo', label='Training loss')\n",
        "plt.plot(epochs, val_loss, 'b', label='Validation loss')\n",
        "plt.title('Training and validation loss')\n",
        "plt.legend()\n",
        "\n",
        "\n",
        "plt.show()"
      ],
      "execution_count": 33,
      "outputs": [
        {
          "output_type": "display_data",
          "data": {
            "image/png": "[encoded data removed]",
            "text/plain": [
              "<Figure size 432x288 with 1 Axes>"
            ]
          },
          "metadata": {
            "tags": []
          }
        },
        {
          "output_type": "display_data",
          "data": {
            "image/png": "[encoded data removed]",
            "text/plain": [
              "<Figure size 432x288 with 1 Axes>"
            ]
          },
          "metadata": {
            "tags": []
          }
        }
      ]
    },
    {
      "cell_type": "code",
      "metadata": {
        "id": "YVQVtig_Ly50",
        "colab_type": "code",
        "colab": {}
      },
      "source": [
        ""
      ],
      "execution_count": 0,
      "outputs": []
    }
  ]
}