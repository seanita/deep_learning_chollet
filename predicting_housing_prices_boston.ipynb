{
  "nbformat": 4,
  "nbformat_minor": 0,
  "metadata": {
    "colab": {
      "name": "predicting_housing_prices_boston.ipynb",
      "provenance": [],
      "collapsed_sections": [],
      "include_colab_link": true
    },
    "kernelspec": {
      "name": "python3",
      "display_name": "Python 3"
    }
  },
  "cells": [
    {
      "cell_type": "markdown",
      "metadata": {
        "id": "view-in-github",
        "colab_type": "text"
      },
      "source": [
        "<a href=\"https://colab.research.google.com/github/seanita/deep_learning_with_python/blob/master/predicting_housing_prices_boston.ipynb\" target=\"_parent\"><img src=\"https://colab.research.google.com/assets/colab-badge.svg\" alt=\"Open In Colab\"/></a>"
      ]
    },
    {
      "cell_type": "code",
      "metadata": {
        "id": "zFKpfcov4kMs",
        "colab_type": "code",
        "colab": {}
      },
      "source": [
        "from keras.datasets import boston_housing\n",
        "\n",
        "(train_data, train_targets), (test_data, test_targets) = boston_housing.load_data()"
      ],
      "execution_count": 0,
      "outputs": []
    },
    {
      "cell_type": "code",
      "metadata": {
        "id": "i4geRKs4InTK",
        "colab_type": "code",
        "outputId": "7dcb3210-9d22-4c6a-9bf2-2a370e19b15a",
        "colab": {
          "base_uri": "https://localhost:8080/",
          "height": 89
        }
      },
      "source": [
        "print(train_data.shape)\n",
        "print(test_data.shape)\n",
        "\n",
        "'''\n",
        "Sort training housing prices and get price of least and most expensive home.\n",
        "Below returns value of 5.0 and 50.0\n",
        "\n",
        "train_targets.sort()\n",
        "print(train_targets[0], train_targets[-1])\n",
        "print(train_data.shape[1])\n",
        "\n",
        "'''"
      ],
      "execution_count": 0,
      "outputs": [
        {
          "output_type": "stream",
          "text": [
            "(404, 13)\n",
            "(102, 13)\n"
          ],
          "name": "stdout"
        },
        {
          "output_type": "execute_result",
          "data": {
            "text/plain": [
              "'\\n# Sort training housing prices and get price of least and most expensive home.\\nBelow returns value of 5.0 and 50.0\\n\\ntrain_targets.sort()\\nprint(train_targets[0], train_targets[-1])\\nprint(train_data.shape[1])\\n\\n'"
            ]
          },
          "metadata": {
            "tags": []
          },
          "execution_count": 11
        }
      ]
    },
    {
      "cell_type": "markdown",
      "metadata": {
        "id": "sxY62GunIm0k",
        "colab_type": "text"
      },
      "source": [
        ""
      ]
    },
    {
      "cell_type": "markdown",
      "metadata": {
        "id": "0j3xJJNPqeRl",
        "colab_type": "text"
      },
      "source": [
        "Normalize features in train and test data"
      ]
    },
    {
      "cell_type": "code",
      "metadata": {
        "id": "gjiny_SBRjq9",
        "colab_type": "code",
        "colab": {}
      },
      "source": [
        "mean = train_data.mean(axis=0)\n",
        "train_data -= mean\n",
        "std = train_data.std(axis=0)\n",
        "train_data /= std\n",
        "\n",
        "test_data -= mean\n",
        "test_data /= std"
      ],
      "execution_count": 0,
      "outputs": []
    },
    {
      "cell_type": "markdown",
      "metadata": {
        "id": "qrWEovI5ArFL",
        "colab_type": "text"
      },
      "source": [
        "Build network"
      ]
    },
    {
      "cell_type": "code",
      "metadata": {
        "id": "OfnQp5dgAw59",
        "colab_type": "code",
        "colab": {}
      },
      "source": [
        "from keras import models\n",
        "from keras import layers\n",
        "\n",
        "def build_model():\n",
        "  model = models.Sequential()\n",
        "  model.add(layers.Dense(64, activation='relu', input_shape=(train_data.shape[1], )))\n",
        "  model.add(layers.Dense(64, activation='relu'))\n",
        "  model.add(layers.Dense(1))  # no activation for final layer is typical for scalar regression problems, when predicting a single continuous value\n",
        "  model.compile(optimizer='rmsprop', loss='mse', metrics=['mae'])\n",
        "  return model"
      ],
      "execution_count": 0,
      "outputs": []
    },
    {
      "cell_type": "markdown",
      "metadata": {
        "id": "0h4O0_bSJxri",
        "colab_type": "text"
      },
      "source": [
        "Splitting data into K=4 partitions to evaluate model and obtain the average of K validation scores"
      ]
    },
    {
      "cell_type": "code",
      "metadata": {
        "id": "5b3g-ApFKKwI",
        "colab_type": "code",
        "colab": {}
      },
      "source": [
        "import numpy as np\n",
        "\n",
        "k = 4\n",
        "num_val_samples = len(train_data) // k\n",
        "num_epochs = 100\n",
        "all_scores = []"
      ],
      "execution_count": 0,
      "outputs": []
    },
    {
      "cell_type": "markdown",
      "metadata": {
        "id": "iNbSjvVIO47i",
        "colab_type": "text"
      },
      "source": [
        "Prepping validation dat for partitioning"
      ]
    },
    {
      "cell_type": "code",
      "metadata": {
        "id": "_mLCPupwPGH5",
        "colab_type": "code",
        "outputId": "75547950-3352-4aa4-c2c9-0a0eb6179465",
        "colab": {
          "base_uri": "https://localhost:8080/",
          "height": 383
        }
      },
      "source": [
        "for i in range(k):\n",
        "  print('processing fold #', i)\n",
        "  val_data = train_data[i * num_val_samples: (i + 1) * num_val_samples]\n",
        "  val_targets = train_targets[i * num_val_samples: (i + 1) * num_val_samples]\n",
        "  \n",
        "  partial_train_data = np.concatenate(\n",
        "      [train_data[:i * num_val_samples],\n",
        "       train_data[(i + 1) * num_val_samples:]],\n",
        "       axis=0)\n",
        "  partial_train_targets = np.concatenate(\n",
        "      [train_targets[:i * num_val_samples],\n",
        "       train_targets[(i + 1) * num_val_samples:]],\n",
        "       axis=0)\n",
        "  \n",
        "  model = build_model()\n",
        "  model.fit(partial_train_data, partial_train_targets, epochs=num_epochs, batch_size=1, verbose=0)\n",
        "  val_mse, val_mae = model.evaluate(val_data, val_targets, verbose=0)\n",
        "  all_scores.append(val_mae)"
      ],
      "execution_count": 0,
      "outputs": [
        {
          "output_type": "stream",
          "text": [
            "processing fold # 0\n",
            "WARNING:tensorflow:From /usr/local/lib/python3.6/dist-packages/keras/backend/tensorflow_backend.py:1033: The name tf.assign_add is deprecated. Please use tf.compat.v1.assign_add instead.\n",
            "\n",
            "WARNING:tensorflow:From /usr/local/lib/python3.6/dist-packages/keras/backend/tensorflow_backend.py:1020: The name tf.assign is deprecated. Please use tf.compat.v1.assign instead.\n",
            "\n",
            "WARNING:tensorflow:From /usr/local/lib/python3.6/dist-packages/keras/backend/tensorflow_backend.py:3005: The name tf.Session is deprecated. Please use tf.compat.v1.Session instead.\n",
            "\n",
            "WARNING:tensorflow:From /usr/local/lib/python3.6/dist-packages/keras/backend/tensorflow_backend.py:190: The name tf.get_default_session is deprecated. Please use tf.compat.v1.get_default_session instead.\n",
            "\n",
            "WARNING:tensorflow:From /usr/local/lib/python3.6/dist-packages/keras/backend/tensorflow_backend.py:197: The name tf.ConfigProto is deprecated. Please use tf.compat.v1.ConfigProto instead.\n",
            "\n",
            "WARNING:tensorflow:From /usr/local/lib/python3.6/dist-packages/keras/backend/tensorflow_backend.py:207: The name tf.global_variables is deprecated. Please use tf.compat.v1.global_variables instead.\n",
            "\n",
            "WARNING:tensorflow:From /usr/local/lib/python3.6/dist-packages/keras/backend/tensorflow_backend.py:216: The name tf.is_variable_initialized is deprecated. Please use tf.compat.v1.is_variable_initialized instead.\n",
            "\n",
            "WARNING:tensorflow:From /usr/local/lib/python3.6/dist-packages/keras/backend/tensorflow_backend.py:223: The name tf.variables_initializer is deprecated. Please use tf.compat.v1.variables_initializer instead.\n",
            "\n",
            "processing fold # 1\n",
            "processing fold # 2\n",
            "processing fold # 3\n"
          ],
          "name": "stdout"
        }
      ]
    },
    {
      "cell_type": "code",
      "metadata": {
        "id": "Nd3kR6B9c4N6",
        "colab_type": "code",
        "outputId": "58aca41b-db94-4f5e-ab1e-786e2c2ddb60",
        "colab": {
          "base_uri": "https://localhost:8080/",
          "height": 52
        }
      },
      "source": [
        "print(all_scores)\n",
        "np.mean(all_scores)"
      ],
      "execution_count": 31,
      "outputs": [
        {
          "output_type": "stream",
          "text": [
            "[11.709083056685948, 6.41311251290954, 5.8385151683694065, 18.03368067977452]\n"
          ],
          "name": "stdout"
        },
        {
          "output_type": "execute_result",
          "data": {
            "text/plain": [
              "10.498597854434854"
            ]
          },
          "metadata": {
            "tags": []
          },
          "execution_count": 31
        }
      ]
    },
    {
      "cell_type": "markdown",
      "metadata": {
        "id": "5-hJmk9lSnPQ",
        "colab_type": "text"
      },
      "source": [
        "For cross validation, it looks like we're off by an average of approx $10,500, which is a lot. Let's train the network a bit longer, increasing epochs to 500. We'll keep a log of how model performs per epoch and save the validation score."
      ]
    },
    {
      "cell_type": "code",
      "metadata": {
        "id": "L7SZqAdKix27",
        "colab_type": "code",
        "outputId": "44edae61-c789-41a7-acdd-c37766fb1384",
        "colab": {
          "base_uri": "https://localhost:8080/",
          "height": 86
        }
      },
      "source": [
        "num_epochs = 500\n",
        "all_mae_histories = []\n",
        "for i in range(k):\n",
        "  print('processing fold #', i)\n",
        "  val_data = train_data[i * num_val_samples: (i + 1) * num_val_samples]\n",
        "  val_targets = train_targets[i * num_val_samples: (i + 1) * num_val_samples]\n",
        "  \n",
        "  partial_train_data = np.concatenate(\n",
        "      [train_data[:i * num_val_samples],\n",
        "       train_data[(i + 1) * num_val_samples:]],\n",
        "       axis=0)\n",
        "  partial_train_targets = np.concatenate(\n",
        "      [train_targets[:i * num_val_samples],\n",
        "       train_targets[(i + 1) * num_val_samples:]],\n",
        "       axis=0)\n",
        "  \n",
        "  model = build_model()\n",
        "  history = model.fit(partial_train_data, partial_train_targets, \n",
        "                      validation_data=(val_data, val_targets),\n",
        "                      epochs=num_epochs, batch_size=1, verbose=0)\n",
        "  mae_history = history.history['val_mean_absolute_error']  \n",
        "  all_mae_histories.append(mae_history)"
      ],
      "execution_count": 29,
      "outputs": [
        {
          "output_type": "stream",
          "text": [
            "processing fold # 0\n",
            "processing fold # 1\n",
            "processing fold # 2\n",
            "processing fold # 3\n"
          ],
          "name": "stdout"
        }
      ]
    },
    {
      "cell_type": "code",
      "metadata": {
        "id": "siDJkW5slSm4",
        "colab_type": "code",
        "outputId": "6e9124f1-5010-4af2-c2cd-f422b064bcf1",
        "colab": {
          "base_uri": "https://localhost:8080/",
          "height": 55
        }
      },
      "source": [
        "average_mae_history = [np.mean([x[i] for x in all_mae_histories]) for i in range(num_epochs)]\n",
        "# print(average_mae_history)"
      ],
      "execution_count": 32,
      "outputs": [
        {
          "output_type": "stream",
          "text": [
            "[9.37095061387166, 9.171390073134166, 9.48618731640353, 8.669386570996577, 8.776085563225323, 9.05913796991405, 9.42179579309898, 9.671591739843386, 8.976342434930329, 9.075788710377005, 9.933975576174142, 9.050595304753521, 8.534020867678198, 9.081228593788524, 9.175132616911785, 9.220096382764307, 9.366524434325719, 9.659361544221936, 9.123974417695905, 8.838228117121329, 8.58542283218686, 8.565899853659149, 9.172601607766483, 9.100773263685774, 9.330913208498814, 8.687521485999078, 10.009826372165492, 9.187376912277523, 9.585890576390938, 8.75896707619771, 9.38697069234187, 9.60095485602275, 9.602063457564551, 8.875665043840314, 9.300626872789742, 8.637370550986564, 8.922075047351345, 9.199200514519568, 9.25553034791852, 9.488527956575451, 9.08828829774762, 9.673117484196577, 9.740435342977543, 9.741430313280313, 8.758409686607889, 9.609368817641004, 9.812455793418506, 8.714080163747958, 9.45261546880892, 9.480823025845066, 9.173391991322584, 8.576079614091627, 9.800972844114398, 9.852143861279629, 10.143064768007488, 9.503793699906604, 8.706082995575255, 9.359651995177316, 9.006097394641083, 9.356662209671322, 8.83200224555365, 9.092908842728871, 9.581665999818556, 9.012406821298127, 10.074309790488517, 9.864354688342255, 10.283718708718176, 9.582079755197658, 10.24030315994036, 9.29530694933221, 9.556674553616212, 9.846186439589697, 9.76583957908177, 9.271459312722234, 9.484559543061964, 9.683029148838308, 10.104498926955873, 10.01250969537414, 10.350107776056422, 10.5447204301853, 9.532077447022543, 10.315943795855683, 9.715026685506992, 10.211011822861021, 9.829658201425383, 10.111568165297555, 9.942482318028365, 9.834632377813358, 9.453948703142675, 9.224829359809952, 9.40000321133302, 10.59615992083408, 11.305096390223738, 10.368119050960729, 9.999036465540971, 10.486552755431372, 10.653963351013637, 9.583961873951525, 10.65575611709368, 10.544378854260586, 10.641523611427534, 10.42716078002854, 10.724475015508066, 9.839715093669325, 10.601095655176898, 10.172715460900033, 10.910341317110724, 10.715130196939601, 10.32085425546854, 11.32396654563375, 10.653403893555746, 10.744065565638023, 11.252185611441583, 10.32442561706694, 10.960823330548731, 10.57203754812184, 10.976187238598815, 10.450616685470733, 10.6716575693376, 11.302631909304324, 10.800696734154577, 10.958879716325516, 10.784948072811165, 10.756865730380067, 10.58168357197601, 10.66423779430956, 10.961395506811613, 10.302826713807512, 11.846601143921955, 11.547863858761174, 11.266377940036282, 10.806463593303567, 11.180309453813155, 10.914982998725211, 11.09935442291864, 10.539552950623012, 11.26516051575689, 10.743431428871531, 10.786752519041006, 11.433043366611596, 11.16093626824936, 11.071436393378985, 10.78973660138574, 10.727283520273645, 10.783754074927604, 10.842351011710592, 11.051160040468273, 11.511101059394306, 11.128954535663718, 11.526931779219373, 11.624771111082321, 11.266355424824328, 11.331911544988651, 11.502104053402892, 11.136732002296071, 10.946241659693198, 12.069594293537707, 12.247116195093287, 11.800816965575265, 11.072115326871966, 11.967682094857246, 11.940760671502293, 11.496991393589738, 11.866570552977006, 11.764543398772137, 11.408853851922668, 11.370600310882718, 10.969338343875243, 11.124006353982605, 10.973841721468634, 11.113824981273991, 10.86710525031137, 10.762384657812591, 11.229881508515613, 11.323480056063964, 11.697641478906764, 12.252049011759238, 11.311365741314274, 12.215535546293353, 12.819870715094083, 11.995159949406538, 11.857178600707858, 12.387657734427123, 11.11481233870629, 11.555724285616733, 12.380878571236487, 10.924940515272688, 11.682052702006727, 10.823722072166973, 11.61044447492845, 11.387814547755932, 11.795181213038983, 12.172669835609964, 11.246716855776192, 11.806145207716686, 11.78305709716117, 11.59945806182257, 11.663784921759426, 13.251564309148506, 11.762320527935973, 11.7960684535527, 12.289221253725561, 11.370377200664862, 12.328657971750392, 11.766334913744785, 11.87463065893343, 12.263217805635811, 12.003817263216074, 11.489963255306282, 11.852710565718095, 11.546797150432473, 11.672661670363777, 11.857082831977618, 12.219283047288952, 11.434204552433279, 12.60648487346007, 11.900558785636827, 11.5438385788757, 12.886176104592804, 11.681156533779484, 12.01227350282197, 11.19863744065313, 11.81745976504713, 12.476866712664616, 11.186385553662138, 12.567318156214045, 11.966659907067175, 12.437413071641828, 12.075165701384591, 11.826903491917223, 12.248484871175028, 11.860231014761595, 12.24808923560794, 11.570984552402308, 11.682607841963815, 12.182570150583096, 12.109264121197238, 12.263187786140065, 11.920251227841518, 12.285299119382803, 12.664030523583442, 11.509041281029727, 13.018328631278312, 11.740332086487573, 12.189799275728735, 11.807299977481954, 11.396909753874978, 12.18278706663906, 11.813130968868142, 12.095887991461424, 12.579997650467524, 12.695398864179555, 12.261969665489577, 12.137890421518005, 12.562351396768403, 12.192728894771918, 11.722918640268912, 12.04396105520796, 12.27130160709419, 12.007120439321689, 12.864249583518152, 12.374956315106685, 11.687403796923043, 12.243473166286355, 11.931709369810502, 12.030049246136505, 12.540050778058497, 11.954932965854606, 13.092169549205515, 12.310643859428936, 13.150742103557775, 12.497454404830933, 12.116318778236314, 12.365059465464979, 12.763411231560283, 12.370251417160034, 11.863492467615863, 11.696009756314872, 12.426012844142347, 12.116295207845102, 12.30042055573794, 12.73818041074394, 12.337242959749581, 11.95065978021905, 12.17112679528718, 12.22755748446625, 12.506856337632282, 13.12899124504316, 12.895256358798187, 12.72619923742691, 12.44312864010877, 11.510290929586581, 11.555326865451171, 12.107645426646318, 12.228234715981058, 12.960764006812973, 12.427572561962771, 12.309037010268408, 11.584392590097861, 12.679665336514464, 12.457773378579923, 12.029053293832458, 13.119179565127531, 12.255187232895652, 12.262085824909777, 12.603881526701521, 12.163172901266872, 12.37624738240006, 12.25545568041282, 12.387037577015338, 12.090000629425049, 13.396935030965523, 12.227289952854118, 12.519848049277126, 12.399856919109231, 13.457984740191167, 12.856888589292469, 12.578922326021855, 12.416109597328866, 12.3791985488174, 12.970945329949409, 12.706238390195487, 12.006449689959535, 13.086612522011936, 12.637983898125071, 12.417657927711412, 12.056759390500513, 12.397446162629837, 12.154337590283687, 12.521877446977218, 12.38256851989444, 12.001291041326994, 12.520076104910064, 12.878530743098496, 11.910879560036234, 12.957603277546344, 12.386706715763204, 12.958110856537772, 12.692777348036813, 12.363680284802275, 12.985366656048463, 12.54564906110858, 12.684674527385448, 12.98452607475885, 11.88951574457754, 12.332530760529018, 11.978841472380232, 12.419117757589511, 13.051345957387792, 12.923545660358844, 11.866015896938816, 12.648834780891342, 13.23470621533913, 12.471793885278231, 12.621352424716004, 12.904253315217424, 13.326586281899178, 13.110825371034075, 12.96086544329577, 13.40356688688297, 12.375545506430145, 12.446556185731794, 12.743580216228372, 12.28803003424465, 12.425514485576365, 12.362158593564931, 12.157660720371965, 12.820844045960078, 12.772091679053732, 13.512760969671874, 12.796551803551097, 12.601808137232714, 13.351227007289923, 12.442889591254811, 12.996697683145506, 12.905519015718216, 12.298893111767155, 12.42811092999902, 12.390544171380526, 12.416647127359221, 12.95232611835593, 12.421970306056561, 13.156145634037433, 12.949616002564383, 13.241854101124378, 12.723019562145272, 12.670917976020586, 12.627644312263715, 13.317529562676308, 13.01539680745342, 12.552355494829687, 12.568293462885489, 12.540509570943247, 13.01865820365377, 12.547523484371677, 13.276153904376644, 12.490442984174974, 12.93055025893863, 12.552711297970008, 12.589903120947355, 12.408055525014895, 12.029621962273474, 12.842421892845985, 12.634488636904424, 13.346372826264634, 12.764827492213485, 13.270337083552144, 12.001841271277701, 13.282734214669407, 12.910175373058507, 12.95677696124162, 12.56398566406552, 13.099222631737739, 12.655779238974695, 13.737007943710477, 12.513967159951086, 13.169389191240366, 13.001908684721087, 12.842985587544959, 12.818226788303638, 12.808968352799367, 12.63550340775216, 12.866862665308584, 12.806162090584785, 12.806690905353811, 12.770543006387088, 12.649534166449367, 12.404130843606325, 12.636852429644897, 12.83837116354763, 12.740564004029377, 12.229785088265295, 12.738640022749948, 12.5285217809205, 12.415367315311244, 12.59509824290134, 12.686738044908733, 13.091513154530288, 12.9191308186786, 12.745153937009302, 13.087066142865927, 13.013664717721467, 12.620893088897855, 12.852839533645328, 12.762641347280823, 12.704057915375964, 13.244497452632036, 13.006326746232439, 13.033448788199095, 12.108845604528295, 12.974861322063031, 12.871376389324075, 12.290786861193062, 12.714506229551711, 13.189413011664211, 12.694680572736381, 12.384465186902792, 12.771486032127154, 12.783251592428378, 12.89154882242184, 12.273113902252499, 12.560294224484132, 13.385718919263027, 12.592819315372127, 12.207306137179383, 13.346784400467826, 12.41181527978123, 12.955184648532677, 12.690803034470814, 12.654168256438604, 12.255138656880597, 12.619820774191677, 12.458229681052785, 12.820478857153713, 12.869865507182507, 12.753893521752687, 12.440386972805062, 12.45532800655554, 12.478095139607344, 12.616146293016943, 12.534852847014324, 12.663769620479922, 13.164148441635739, 12.754897403244925, 13.413473362969881, 12.545881882752521, 12.424478131945769, 12.782576093579284, 12.988750346816413, 12.61326525707056, 12.647340415727975, 12.9953344057102, 12.578986052239296, 12.283478151453604, 12.673075614589276, 12.786598071013346, 12.829312820245724, 12.514766733245093, 13.291274358730504, 12.55314038059499]\n"
          ],
          "name": "stdout"
        }
      ]
    },
    {
      "cell_type": "code",
      "metadata": {
        "id": "m9123Xisl6M4",
        "colab_type": "code",
        "outputId": "00bd96c7-c660-471b-c7fc-64434ec5aa17",
        "colab": {
          "base_uri": "https://localhost:8080/",
          "height": 283
        }
      },
      "source": [
        "import matplotlib.pyplot as plt\n",
        "\n",
        "plt.plot(range(1, len(average_mae_history) + 1), average_mae_history)\n",
        "plt.xlabel('Epochs')\n",
        "plt.ylabel('Validation MAE')\n",
        "\n",
        "plt.show()"
      ],
      "execution_count": 35,
      "outputs": [
        {
          "output_type": "display_data",
          "data": {
            "image/png": "[encoded data removed]",
            "text/plain": [
              "<Figure size 432x288 with 1 Axes>"
            ]
          },
          "metadata": {
            "tags": []
          }
        }
      ]
    },
    {
      "cell_type": "code",
      "metadata": {
        "id": "3LKN9R1XqjPH",
        "colab_type": "code",
        "colab": {
          "base_uri": "https://localhost:8080/",
          "height": 52
        },
        "outputId": "a00be6d6-773c-4e60-a172-5a8abd3173a6"
      },
      "source": [
        "model = build_model()\n",
        "model.fit(train_data, train_targets,\n",
        "         epochs=80, batch_size=16, verbose=0)\n",
        "test_mse_score, test_mae_score = model.evaluate(test_data, test_targets)\n",
        "\n",
        "test_mae_score"
      ],
      "execution_count": 34,
      "outputs": [
        {
          "output_type": "stream",
          "text": [
            "102/102 [==============================] - 0s 2ms/step\n"
          ],
          "name": "stdout"
        },
        {
          "output_type": "execute_result",
          "data": {
            "text/plain": [
              "5.90456802704755"
            ]
          },
          "metadata": {
            "tags": []
          },
          "execution_count": 34
        }
      ]
    },
    {
      "cell_type": "markdown",
      "metadata": {
        "id": "GgUanagOuQvH",
        "colab_type": "text"
      },
      "source": [
        "Smooth out curve by remove first 10 data points and replace each point with an exponential moving adverage of previous points."
      ]
    },
    {
      "cell_type": "markdown",
      "metadata": {
        "id": "nLcH9zfauQr5",
        "colab_type": "text"
      },
      "source": [
        ""
      ]
    },
    {
      "cell_type": "code",
      "metadata": {
        "id": "I0vvsc84uQT_",
        "colab_type": "code",
        "colab": {
          "base_uri": "https://localhost:8080/",
          "height": 283
        },
        "outputId": "51d067b9-f09c-4761-f23e-d175d2fa632c"
      },
      "source": [
        "def smooth_curve(points, factor=0.9):\n",
        "  smoothed_points = []\n",
        "  for point in points:\n",
        "    if smoothed_points:\n",
        "      previous = smoothed_points[-1]\n",
        "      smoothed_points.append(previous * factor + point * (1 - factor))\n",
        "    else:\n",
        "      smoothed_points.append(point)\n",
        "  return smoothed_points\n",
        "\n",
        "smooth_mae_history = smooth_curve(average_mae_history[10:])\n",
        "\n",
        "plt.plot(range(1, len(smooth_mae_history) + 1), smooth_mae_history)\n",
        "plt.xlabel('Epochs')\n",
        "plt.ylabel('Validation MAE')\n",
        "\n",
        "plt.show()"
      ],
      "execution_count": 37,
      "outputs": [
        {
          "output_type": "display_data",
          "data": {
            "image/png": "[encoded data removed]",
            "text/plain": [
              "<Figure size 432x288 with 1 Axes>"
            ]
          },
          "metadata": {
            "tags": []
          }
        }
      ]
    },
    {
      "cell_type": "code",
      "metadata": {
        "id": "b-BWtgDfuIqB",
        "colab_type": "code",
        "colab": {
          "base_uri": "https://localhost:8080/",
          "height": 52
        },
        "outputId": "c0b50bf1-f673-491f-f0bb-e0c3ac147bdd"
      },
      "source": [
        "model = build_model()\n",
        "model.fit(train_data, train_targets, epochs=80, batch_size=16, verbose=0)\n",
        "test_mse_score, test_mae_score = model.evaluate(test_data, test_targets)\n",
        "\n",
        "print(test_mae_score)"
      ],
      "execution_count": 39,
      "outputs": [
        {
          "output_type": "stream",
          "text": [
            "102/102 [==============================] - 0s 3ms/step\n",
            "5.717806928298053\n"
          ],
          "name": "stdout"
        }
      ]
    },
    {
      "cell_type": "markdown",
      "metadata": {
        "id": "Kl58MNMfv-29",
        "colab_type": "text"
      },
      "source": [
        "We are still off by $5,717."
      ]
    }
  ]
}